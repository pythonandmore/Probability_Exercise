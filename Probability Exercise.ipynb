{
 "cells": [
  {
   "cell_type": "code",
   "execution_count": 14,
   "metadata": {},
   "outputs": [],
   "source": [
    "#Import libraries \n",
    "import numpy as np\n",
    "import pandas as pd\n",
    "import plotly.express as px\n",
    "\n",
    "\n",
    "import matplotlib.pyplot as plt\n",
    "%matplotlib inline\n",
    "from random import randint\n",
    "from plotly.graph_objs import Bar, Layout\n",
    "from plotly import offline"
   ]
  },
  {
   "cell_type": "markdown",
   "metadata": {},
   "source": [
    "<b>1. Rolling a fair die to get a number among the six numbers {1,2,3,4,5,6}</b>"
   ]
  },
  {
   "cell_type": "code",
   "execution_count": 15,
   "metadata": {
    "scrolled": false
   },
   "outputs": [
    {
     "name": "stdout",
     "output_type": "stream",
     "text": [
      "[1, 5, 2, 5, 1, 5, 6, 6, 2, 6, 3, 6, 2, 3, 6, 3, 1, 1, 6, 5, 6, 6, 4, 2, 4, 5, 3, 4, 4, 6, 2, 2, 5, 1, 3, 6, 6, 3, 1, 5, 3, 4, 3, 2, 3, 5, 3, 3, 3, 6, 2, 1, 1, 3, 3, 3, 6, 6, 1, 1, 3, 3, 5, 2, 6, 5, 1, 5, 6, 3, 5, 3, 3, 3, 5, 1, 2, 2, 5, 6, 2, 3, 2, 1, 5, 1, 6, 5, 1, 3, 5, 2, 3, 5, 2, 1, 1, 3, 2, 4, 2, 2, 3, 1, 1, 4, 5, 6, 1, 5, 5, 6, 2, 3, 2, 6, 3, 6, 5, 4, 6, 5, 6, 4, 4, 3, 6, 6, 4, 5, 1, 2, 3, 5, 6, 5, 4, 6, 4, 1, 1, 6, 3, 4, 1, 2, 5, 4, 5, 3, 3, 4, 6, 2, 4, 4, 6, 6, 6, 5, 1, 5, 6, 3, 3, 5, 3, 5, 5, 3, 1, 4, 1, 1, 4, 1, 1, 6, 6, 5, 2, 5, 5, 3, 5, 3, 3, 3, 3, 5, 3, 5, 5, 6, 6, 2, 6, 1, 1, 1, 6, 4, 5, 1, 3, 6, 6, 6, 2, 4, 1, 4, 5, 6, 2, 5, 5, 2, 5, 5, 6, 1, 6, 1, 3, 4, 2, 2, 3, 1, 6, 3, 4, 5, 4, 4, 1, 6, 4, 6, 3, 3, 1, 6, 1, 5, 2, 5, 2]\n",
      "[41, 32, 49, 28, 49]\n"
     ]
    },
    {
     "data": {
      "image/png": "[encoded data removed]",
      "text/plain": [
       "<Figure size 432x288 with 1 Axes>"
      ]
     },
     "metadata": {
      "needs_background": "light"
     },
     "output_type": "display_data"
    }
   ],
   "source": [
    "class Die():\n",
    "### __init__   <--- 2 underscores before and after or you will get an error  \n",
    "    def __init__(self,num_sides=6):\n",
    "        self.num_sides=num_sides\n",
    "    def roll(self):\n",
    "        return randint(1,self.num_sides)\n",
    "die=Die()\n",
    "\n",
    "\n",
    "results=[]\n",
    "for roll_num in range(1,250):\n",
    "\n",
    "    result=die.roll()\n",
    "    results.append(result)\n",
    "print(results)\n",
    "    \n",
    "# to determine how many times each side has appeared     \n",
    "frequencies = []\n",
    "\n",
    "max_result = die.num_sides \n",
    "\n",
    "\n",
    "for value in range(1, max_result):\n",
    "    frequency = results.count(value)\n",
    "    frequencies.append(frequency)\n",
    "    \n",
    "print(frequencies)\n",
    "\n",
    "x_value = list(range(1, max_result+1))\n",
    "data = [Bar(x=x_value, y=frequencies)]\n",
    "\n",
    "\n",
    "\n",
    "\n",
    "#roll_num = np.random.init(1, 250, size=50)\n",
    "#plt.yticks(range(2, 20, 2))\n",
    "plt.xlabel('Number on dice rolled')\n",
    "plt.ylabel('Number of rolls')\n",
    "plt.hist(results, range=(1,7), bins=6, histtype='bar', ec='black')\n",
    "plt.show()\n",
    "\n",
    "\n",
    "# probability mass function\n",
    "# the sum of probability is always 1 \n",
    "# Rolling a fair die to get a number among the six numbers {1,2,3,4,5,6}\n",
    "# p(x = 6)=1/6+1/6+1/6+1/6+1/6+1/6"
   ]
  },
  {
   "cell_type": "markdown",
   "metadata": {},
   "source": [
    "<b>2. Rolling an unfair die to get a number among the six numbers {1,2,3,4,5,6}. </b><br>\n",
    "Note that due to uneven weight distribution, the faces of the die having 3 and 5,"
   ]
  },
  {
   "cell_type": "code",
   "execution_count": 17,
   "metadata": {},
   "outputs": [
    {
     "name": "stdout",
     "output_type": "stream",
     "text": [
      "6\n"
     ]
    }
   ],
   "source": [
    "import random\n",
    "def dice_throw():\n",
    "      \n",
    "    # Declaring the sequence\n",
    "    sequence = [1, 1, 3, 3, 3, 4, 4, 5, 5, 5, 6, 6]\n",
    "      \n",
    "    # using random.randint() to  \n",
    "    # get a random index number  \n",
    "    rand_x = random.randint(0, len(sequence)-1)\n",
    "  \n",
    "    # Printing the random result\n",
    "    print(sequence[rand_x])\n",
    "\n",
    "dice_throw()"
   ]
  },
  {
   "cell_type": "markdown",
   "metadata": {},
   "source": [
    "<b> 3) Tossing a fair coin to get a Heads or Tail </b><br>\n",
    "Probability Mass function = P(x)= .5 heads + .5 tails"
   ]
  },
  {
   "cell_type": "code",
   "execution_count": 19,
   "metadata": {},
   "outputs": [
    {
     "name": "stdout",
     "output_type": "stream",
     "text": [
      "Head Count:  131\n",
      "Tail Count:  119\n"
     ]
    }
   ],
   "source": [
    "\n",
    "def coinFlip(p):    \n",
    "      \n",
    "    result = np.random.binomial(1,p)\n",
    "    \n",
    "    return result\n",
    "\n",
    "#probability of heads vs. tails. \n",
    "probability = .5\n",
    "#num of flips required. This can be changed.\n",
    "n = 250\n",
    "#initiate array\n",
    "fullResults = np.arange(n)\n",
    "#perform desired numbered of flips \n",
    "for i in range(0, n):    \n",
    "    fullResults[i] = coinFlip(probability)    \n",
    "    i+=1\n",
    "#print results\n",
    "\n",
    "\n",
    "#Total up heads and tails \n",
    "print(\"Head Count: \", np.count_nonzero(fullResults == 1))\n",
    "print(\"Tail Count: \", np.count_nonzero(fullResults == 0))"
   ]
  },
  {
   "cell_type": "code",
   "execution_count": 6,
   "metadata": {},
   "outputs": [
    {
     "name": "stdout",
     "output_type": "stream",
     "text": [
      "Head Count:  159\n",
      "Tail Count:  91\n"
     ]
    }
   ],
   "source": [
    "#4. Tossing an unfair coin to get a Heads or a Tail. There is a 63% higher chance of a Heads showing up\n",
    "def coinFlip(p):    \n",
    "      \n",
    "    result = np.random.binomial(1,p)\n",
    "    \n",
    "    return result\n",
    "\n",
    "#probability of heads vs. tails. \n",
    "probability = .63\n",
    "#num of flips required. This can be changed.\n",
    "n = 250\n",
    "#initiate array\n",
    "fullResults = np.arange(n)\n",
    "#perform desired numbered of flips \n",
    "for i in range(0, n):    \n",
    "    fullResults[i] = coinFlip(probability)    \n",
    "    i+=1\n",
    "#print results\n",
    "\n",
    "\n",
    "#Total up heads and tails \n",
    "print(\"Head Count: \", np.count_nonzero(fullResults == 1))\n",
    "print(\"Tail Count: \", np.count_nonzero(fullResults == 0))"
   ]
  },
  {
   "cell_type": "markdown",
   "metadata": {},
   "source": [
    "<b>5. Weight of nails (in grams, accuracy up to 3 decimal places) produced by an automated machinery</b><br>\n",
    "Average weight of the nails is 10 g. The machinery has a tolerance of up to  ± 225 𝑚𝑔"
   ]
  },
  {
   "cell_type": "code",
   "execution_count": 7,
   "metadata": {},
   "outputs": [
    {
     "data": {
      "image/png": "[encoded data removed]",
      "text/plain": [
       "<Figure size 432x288 with 1 Axes>"
      ]
     },
     "metadata": {
      "needs_background": "light"
     },
     "output_type": "display_data"
    }
   ],
   "source": [
    "import matplotlib\n",
    "import numpy as np\n",
    "import matplotlib.pyplot as plt\n",
    "\n",
    "np.random.seed(10)\n",
    "\n",
    "\n",
    "mu = 10  # mean of distribution\n",
    "sigma = .225  # standard deviation of distribution\n",
    "x = mu + sigma * np.random.randn(250)\n",
    "\n",
    "num_bins = 5\n",
    "\n",
    "fig, ax = plt.subplots()\n",
    "\n",
    "# the histogram of the data\n",
    "n, bins, patches = ax.hist(x, num_bins, density=1)\n",
    "\n",
    "# add a 'best fit' line\n",
    "#y = norm(10,0.225).pdf(xrange)\n",
    "#ax.plot(bins, y, '--')\n",
    "ax.set_xlabel('Weight')\n",
    "ax.set_ylabel('Probability density')\n",
    "ax.set_title(r'Histogram of nail weight: $\\mu=10$, $\\sigma=.225$')\n",
    "\n",
    "# Tweak spacing to prevent clipping of ylabel\n",
    "fig.tight_layout()\n",
    "plt.show()"
   ]
  },
  {
   "cell_type": "code",
   "execution_count": null,
   "metadata": {},
   "outputs": [],
   "source": []
  }
 ],
 "metadata": {
  "kernelspec": {
   "display_name": "Python 3",
   "language": "python",
   "name": "python3"
  },
  "language_info": {
   "codemirror_mode": {
    "name": "ipython",
    "version": 3
   },
   "file_extension": ".py",
   "mimetype": "text/x-python",
   "name": "python",
   "nbconvert_exporter": "python",
   "pygments_lexer": "ipython3",
   "version": "3.8.5"
  }
 },
 "nbformat": 4,
 "nbformat_minor": 4
}
